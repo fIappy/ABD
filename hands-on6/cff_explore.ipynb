{
 "cells": [
  {
   "cell_type": "code",
   "execution_count": null,
   "metadata": {},
   "outputs": [],
   "source": [
    "# -*- coding: utf-8 -*-\n",
    "from miasm.analysis.machine import Machine\n",
    "from miasm.arch.x86.arch import mn_x86\n",
    "from miasm.ir.symbexec import SymbolicExecutionEngine\n",
    "from miasm.expression.expression import ExprCond, ExprId, ExprInt, ExprMem \n",
    "from miasm.expression.simplifications import expr_simp\n",
    "from miasm.arch.x86.regs import *\n",
    "from miasm.core import parse_asm, asmblock\n",
    "from miasm.core.locationdb import LocationDB\n",
    "from miasm.analysis.binary import Container\n",
    "from miasm.analysis.simplifier import IRCFGSimplifierCommon\n",
    "from future.utils import viewitems\n",
    "from miasm.loader.strpatchwork import *\n",
    "from miasm.ir.translators.translator import Translator\n",
    "import warnings\n",
    "import z3\n",
    "import pydotplus\n",
    "from IPython.display import Image, display_png"
   ]
  },
  {
   "cell_type": "code",
   "execution_count": null,
   "metadata": {},
   "outputs": [],
   "source": [
    "class FinalState:\n",
    "    def __init__(self, result, sym, path_conds, path_history):\n",
    "        self.result = result\n",
    "        self.sb = sym\n",
    "        self.path_conds = path_conds\n",
    "        self.path_history = path_history"
   ]
  },
  {
   "cell_type": "code",
   "execution_count": null,
   "metadata": {},
   "outputs": [],
   "source": [
    "def explore(ir, start_addr, start_symbols, \n",
    "        ircfg, cond_limit=30, uncond_limit=100, \n",
    "        lbl_stop=None, final_states=[]):\n",
    "\n",
    "    def codepath_walk(addr, symbols, conds, depth, final_states, path):\n",
    "\n",
    "        if depth >= cond_limit:\n",
    "            warnings.warn(\"'depth' is over the cond_limit :%d\"%(depth))\n",
    "            return \n",
    "\n",
    "        sb = SymbolicExecutionEngine(ir, symbols)\n",
    "\n",
    "        for _ in range(uncond_limit):\n",
    "\n",
    "            if isinstance(addr, ExprInt): \n",
    "                if addr == lbl_stop:\n",
    "                    final_states.append(FinalState(True, sb, conds, path))\n",
    "                    return\n",
    "\n",
    "            path.append(addr)\n",
    "\n",
    "            pc = sb.run_block_at(ircfg, addr)\n",
    "\n",
    "            if isinstance(pc, ExprCond): \n",
    "    \n",
    "                # Calc the condition to take true or false paths\n",
    "                cond_true  = {pc.cond: ExprInt(1, 32)}\n",
    "                cond_false = {pc.cond: ExprInt(0, 32)}\n",
    "\n",
    "                # The destination addr of the true or false paths\n",
    "                addr_true  = expr_simp(\n",
    "                    sb.eval_expr(pc.replace_expr(cond_true), {}))\n",
    "\n",
    "                addr_false = expr_simp(\n",
    "                    sb.eval_expr(pc.replace_expr(cond_false), {}))\n",
    "\n",
    "                # Need to add the path conditions to reach this point\n",
    "                conds_true = list(conds) + list(cond_true.items())\n",
    "                conds_false = list(conds) + list(cond_false.items())\n",
    "\n",
    "                # Recursive call for the true or false path\n",
    "                codepath_walk(\n",
    "                        addr_true, sb.symbols.copy(), \n",
    "                        conds_true, depth + 1, final_states, list(path))\n",
    "\n",
    "                codepath_walk(\n",
    "                        addr_false, sb.symbols.copy(), \n",
    "                        conds_false, depth + 1, final_states, list(path))\n",
    "\n",
    "                return\n",
    "            else:\n",
    "                addr = expr_simp(sb.eval_expr(pc))\n",
    "\n",
    "        final_states.append(FinalState(True, sb, conds, path))\n",
    "        return \n",
    "\n",
    "    return codepath_walk(start_addr, start_symbols, [], 0, final_states, [])"
   ]
  },
  {
   "cell_type": "code",
   "execution_count": null,
   "metadata": {},
   "outputs": [],
   "source": [
    "filename = 'test-mod2-fla.bin'\n",
    "target_addr = 0x8048440  \n",
    "\n",
    "loc_db = LocationDB()\n",
    "with open(filename, 'rb') as fstream:\n",
    "    cont = Container.from_stream(fstream, loc_db)\n",
    "machine = Machine(cont.arch)\n",
    "\n",
    "mdis = machine.dis_engine(cont.bin_stream, loc_db=cont.loc_db)\n",
    "asmcfg = mdis.dis_multiblock(target_addr)\n",
    "ir_arch = machine.ira(mdis.loc_db)\n",
    "ircfg = ir_arch.new_ircfg_from_asmcfg(asmcfg)"
   ]
  },
  {
   "cell_type": "code",
   "execution_count": null,
   "metadata": {},
   "outputs": [],
   "source": [
    "# Apply simplifier\n",
    "common_simplifier = IRCFGSimplifierCommon(ir_arch)\n",
    "common_simplifier.simplify(ircfg, target_addr)"
   ]
  },
  {
   "cell_type": "code",
   "execution_count": null,
   "metadata": {},
   "outputs": [],
   "source": [
    "# Visualize the CFG\n",
    "with open('cfg.dot', 'w') as f:\n",
    "    f.write(ircfg.dot())\n",
    "graph = pydotplus.graphviz.graph_from_dot_file('cfg.dot')\n",
    "graph.write_png('cfg.png')\n",
    "display_png(Image(graph.create_png()))"
   ]
  },
  {
   "cell_type": "code",
   "execution_count": null,
   "metadata": {},
   "outputs": [],
   "source": [
    "symbols_init =  {\n",
    "    ExprMem(ExprId('ESP_init', 32), 32) : ExprInt(0xdeadbeef, 32)\n",
    "}\n",
    "\n",
    "for i, r in enumerate(all_regs_ids):\n",
    "    symbols_init[r] = all_regs_ids_init[i]\n",
    "\n",
    "final_states = []"
   ]
  },
  {
   "cell_type": "code",
   "execution_count": null,
   "metadata": {},
   "outputs": [],
   "source": [
    "explore(ir_arch, \n",
    "        target_addr, \n",
    "        symbols_init, \n",
    "        ircfg, \n",
    "        lbl_stop=0xdeadbeef, \n",
    "        final_states=final_states)"
   ]
  },
  {
   "cell_type": "code",
   "execution_count": null,
   "metadata": {},
   "outputs": [],
   "source": [
    "# Show results\n",
    "print('final states:', len(final_states))\n",
    "\n",
    "for final_state in final_states:\n",
    "    if final_state.result:\n",
    "        print('Feasible path:','->'.join([str(x) for x in final_state.path_history]))\n",
    "        print('\\t',final_state.path_conds)\n",
    "    else:\n",
    "        print('Infeasible path:','->'.join([str(x) for x in final_state.path_history]))\n",
    "        print('\\t',final_state.path_conds)\n",
    "\n",
    "    final_state.sb.dump(ids=False)\n",
    "    print('')"
   ]
  }
 ],
 "metadata": {
  "kernelspec": {
   "display_name": "Python 3",
   "language": "python",
   "name": "python3"
  },
  "language_info": {
   "codemirror_mode": {
    "name": "ipython",
    "version": 3
   },
   "file_extension": ".py",
   "mimetype": "text/x-python",
   "name": "python",
   "nbconvert_exporter": "python",
   "pygments_lexer": "ipython3",
   "version": "3.6.9"
  }
 },
 "nbformat": 4,
 "nbformat_minor": 4
}
